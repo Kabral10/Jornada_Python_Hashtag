{
 "cells": [
  {
   "cell_type": "markdown",
   "metadata": {},
   "source": [
    "# Python Insights - Analisando Dados com Python\n",
    "\n",
    "### Case - Cancelamento de Clientes\n",
    "\n",
    "Você foi contratado por uma empresa com mais de 800 mil clientes para um projeto de Dados. Recentemente a empresa percebeu que da sua base total de clientes, a maioria são clientes inativos, ou seja, que já cancelaram o serviço.\n",
    "\n",
    "Precisando melhorar seus resultados ela quer conseguir entender os principais motivos desses cancelamentos e quais as ações mais eficientes para reduzir esse número.\n",
    "\n",
    "Base de dados e arquivos: https://drive.google.com/drive/folders/1uDesZePdkhiraJmiyeZ-w5tfc8XsNYFZ?usp=drive_link"
   ]
  },
  {
   "metadata": {},
   "cell_type": "code",
   "source": [
    "\n",
    "#!pip install pandas openpyxl numpy nbformat plotly ipykernel\n",
    "#passo a passo\n",
    "#passo 1: Importar a base de dados\n",
    "from sys import displayhook\n",
    "import pandas as pd\n",
    "tabela = pd.read_csv(\"cancelamentos.csv\")\n"
   ],
   "outputs": [],
   "execution_count": null
  },
  {
   "metadata": {},
   "cell_type": "code",
   "source": [
    "#passo 2: Visualizar a base de dados ( 2 objetivos: entender as informações e encontrar problemas )\n",
    "#informações inúteis\n",
    "tabela=tabela.drop(columns=\"CustomerID\")\n",
    "displayhook(tabela)\n"
   ],
   "outputs": [],
   "execution_count": null
  },
  {
   "metadata": {},
   "cell_type": "code",
   "source": [
    "#passo 3: Resolver os problemas da base de dados\n",
    "#informações no formato errado ( Nenhuma )\n",
    "#informações vazias\n",
    "tabela = tabela.dropna()\n",
    "displayhook(tabela.info())"
   ],
   "outputs": [],
   "execution_count": null
  },
  {
   "metadata": {},
   "cell_type": "code",
   "source": [
    "#passo 4: Análise inicial ( quantos clientes cancelaram, qual o % de clientes )\n",
    "#contar quem cancelou\n",
    "displayhook (tabela['cancelou'].value_counts())\n",
    "#contagem em percentual\n",
    "displayhook (tabela['cancelou'].value_counts(normalize=True))\n"
   ],
   "outputs": [],
   "execution_count": null
  },
  {
   "metadata": {},
   "cell_type": "code",
   "source": [
    "#passo 5: Análise a causa dos cancelamentos dos clientes\n",
    "#Entendendo o impacto de cada coluna do grafico impacta no cancelamento do cliente\n",
    "#criando coluna\n",
    "import plotly.express as px\n",
    "for coluna in tabela.columns:\n",
    "    #criando coluna\n",
    "    grafico = px.histogram(tabela, x=coluna, color='cancelou', text_auto=True)\n",
    "    #exibindo a coluna\n",
    "    grafico.show()"
   ],
   "outputs": [],
   "execution_count": null
  },
  {
   "metadata": {},
   "cell_type": "code",
   "source": [
    "#Motivos para cancelamento!\n",
    "    #Clientes que ligaram mais de 4x cancelaram\n",
    "    #Todos clientes do contrato mensal cancelaram\n",
    "    #Todos os clientes que atrasam o pagamento mais de 20dias cancelaram\n",
    "\n",
    "#Olhar a base excluindo o problema do callcenter\n",
    "tabela = tabela[tabela['ligacoes_callcenter']<=4]\n",
    "#Olhar a base excluindo o problema do atraso\n",
    "tabela = tabela[tabela['dias_atraso']<=20]\n",
    "#Olhar a base excluindo o problema da mensalidade\n",
    "tabela = tabela[tabela['duracao_contrato']!=\"Monthly\"]\n",
    "#Exibir\n",
    "displayhook(tabela['cancelou'].value_counts(normalize=True))"
   ],
   "outputs": [],
   "execution_count": null
  }
 ],
 "metadata": {
  "kernelspec": {
   "display_name": "base",
   "language": "python",
   "name": "python3"
  },
  "language_info": {
   "codemirror_mode": {
    "name": "ipython",
    "version": 3
   },
   "file_extension": ".py",
   "mimetype": "text/x-python",
   "name": "python",
   "nbconvert_exporter": "python",
   "pygments_lexer": "ipython3",
   "version": "3.10.9"
  },
  "orig_nbformat": 4
 },
 "nbformat": 4,
 "nbformat_minor": 2
}
